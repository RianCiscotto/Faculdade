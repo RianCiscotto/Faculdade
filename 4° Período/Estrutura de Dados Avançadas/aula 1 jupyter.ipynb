{
 "cells": [
  {
   "cell_type": "code",
   "execution_count": 2,
   "id": "69925bd9",
   "metadata": {},
   "outputs": [],
   "source": [
    "n1 = 2\n",
    "n2 = 4"
   ]
  },
  {
   "cell_type": "code",
   "execution_count": 3,
   "id": "4f2ed2ba",
   "metadata": {},
   "outputs": [
    {
     "name": "stdout",
     "output_type": "stream",
     "text": [
      "Adição:  6\n",
      "Subtração:  -2\n",
      "multiplicação:  8\n",
      "Divisão:  0.5\n"
     ]
    }
   ],
   "source": [
    "print('Adição: ',n1 + n2)\n",
    "print('Subtração: ', n1 - n2)\n",
    "print('multiplicação: ', n1 * n2)\n",
    "print('Divisão: ', n1 / n2)"
   ]
  },
  {
   "cell_type": "code",
   "execution_count": null,
   "id": "45717470",
   "metadata": {},
   "outputs": [],
   "source": [
    "tempo_gasto = float(input('Digite o tempo gasto na viagem'))\n",
    "velocidade_media = float(input('Digite a velocidade média da viagem'))"
   ]
  },
  {
   "cell_type": "code",
   "execution_count": 10,
   "id": "0ab02573",
   "metadata": {},
   "outputs": [
    {
     "name": "stdout",
     "output_type": "stream",
     "text": [
      "300.0\n"
     ]
    }
   ],
   "source": [
    "Distancia = tempo_gasto * velocidade_media\n",
    "print(Distancia)"
   ]
  },
  {
   "cell_type": "code",
   "execution_count": 11,
   "id": "6c79155c",
   "metadata": {},
   "outputs": [
    {
     "name": "stdout",
     "output_type": "stream",
     "text": [
      "25.0\n"
     ]
    }
   ],
   "source": [
    "litros_usados = Distancia / 12\n",
    "print(litros_usados)"
   ]
  },
  {
   "cell_type": "code",
   "execution_count": 12,
   "id": "36fa87e0",
   "metadata": {},
   "outputs": [
    {
     "name": "stdout",
     "output_type": "stream",
     "text": [
      "Velocidade média:  75.0\n",
      "Tempo Gasto na viagem:  4.0\n",
      "Distância percorrida 300.0\n",
      "Quantidade de litros utilizado:  25.0\n"
     ]
    }
   ],
   "source": [
    "print('Velocidade média: ', velocidade_media)\n",
    "print('Tempo Gasto na viagem: ', tempo_gasto)\n",
    "print('Distância percorrida', Distancia)\n",
    "print('Quantidade de litros utilizado: ', litros_usados) "
   ]
  },
  {
   "cell_type": "code",
   "execution_count": 5,
   "id": "52fc88c3",
   "metadata": {},
   "outputs": [
    {
     "data": {
      "text/plain": [
       "True"
      ]
     },
     "execution_count": 5,
     "metadata": {},
     "output_type": "execute_result"
    }
   ],
   "source": [
    "a = True\n",
    "b = False\n",
    "a or b"
   ]
  },
  {
   "cell_type": "code",
   "execution_count": null,
   "id": "160c20a1",
   "metadata": {},
   "outputs": [],
   "source": []
  }
 ],
 "metadata": {
  "kernelspec": {
   "display_name": "Python 3",
   "language": "python",
   "name": "python3"
  },
  "language_info": {
   "codemirror_mode": {
    "name": "ipython",
    "version": 3
   },
   "file_extension": ".py",
   "mimetype": "text/x-python",
   "name": "python",
   "nbconvert_exporter": "python",
   "pygments_lexer": "ipython3",
   "version": "3.13.3"
  }
 },
 "nbformat": 4,
 "nbformat_minor": 5
}
